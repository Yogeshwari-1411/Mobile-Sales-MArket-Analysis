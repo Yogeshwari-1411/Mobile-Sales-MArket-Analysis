{
 "cells": [
  {
   "cell_type": "code",
   "execution_count": 44,
   "metadata": {},
   "outputs": [],
   "source": [
    "import numpy as np\n",
    "import pandas as pd\n",
    "\n",
    "import matplotlib.pyplot as plt\n",
    "import seaborn as sns"
   ]
  },
  {
   "cell_type": "code",
   "execution_count": 45,
   "metadata": {},
   "outputs": [],
   "source": [
    "df=pd.read_csv(\"Mobile phone.csv\")"
   ]
  },
  {
   "cell_type": "code",
   "execution_count": 46,
   "metadata": {},
   "outputs": [
    {
     "data": {
      "text/html": [
       "<div>\n",
       "<style scoped>\n",
       "    .dataframe tbody tr th:only-of-type {\n",
       "        vertical-align: middle;\n",
       "    }\n",
       "\n",
       "    .dataframe tbody tr th {\n",
       "        vertical-align: top;\n",
       "    }\n",
       "\n",
       "    .dataframe thead th {\n",
       "        text-align: right;\n",
       "    }\n",
       "</style>\n",
       "<table border=\"1\" class=\"dataframe\">\n",
       "  <thead>\n",
       "    <tr style=\"text-align: right;\">\n",
       "      <th></th>\n",
       "      <th>S.No</th>\n",
       "      <th>Brand Name</th>\n",
       "      <th>Product Name</th>\n",
       "      <th>Form Factor</th>\n",
       "      <th>Memory Storage (GB)</th>\n",
       "      <th>Processor</th>\n",
       "      <th>RAM (GB)</th>\n",
       "      <th>Battery (mAh)</th>\n",
       "      <th>Front Camera (MP)</th>\n",
       "      <th>Rear Camera (MP)</th>\n",
       "      <th>Warranty (Year)</th>\n",
       "    </tr>\n",
       "  </thead>\n",
       "  <tbody>\n",
       "    <tr>\n",
       "      <th>0</th>\n",
       "      <td>1.0</td>\n",
       "      <td>Apple</td>\n",
       "      <td>Apple iPhone 13 Pro Max</td>\n",
       "      <td>Smart Phone</td>\n",
       "      <td>128.0</td>\n",
       "      <td>A15 Bionic Chip</td>\n",
       "      <td>16.0</td>\n",
       "      <td>5000.0</td>\n",
       "      <td>12.0</td>\n",
       "      <td>12.0</td>\n",
       "      <td>1.0</td>\n",
       "    </tr>\n",
       "    <tr>\n",
       "      <th>1</th>\n",
       "      <td>2.0</td>\n",
       "      <td>Xiaomi</td>\n",
       "      <td>Xiamoi 12 Pro</td>\n",
       "      <td>Smart Phone</td>\n",
       "      <td>256.0</td>\n",
       "      <td>Snapdragon 8 Gen 1</td>\n",
       "      <td>12.0</td>\n",
       "      <td>4600.0</td>\n",
       "      <td>32.0</td>\n",
       "      <td>150.0</td>\n",
       "      <td>1.0</td>\n",
       "    </tr>\n",
       "    <tr>\n",
       "      <th>2</th>\n",
       "      <td>3.0</td>\n",
       "      <td>Oneplus</td>\n",
       "      <td>Oneplus 9 Pro</td>\n",
       "      <td>Smart Phone</td>\n",
       "      <td>128.0</td>\n",
       "      <td>Qualcomm Snapdragon 888</td>\n",
       "      <td>8.0</td>\n",
       "      <td>4500.0</td>\n",
       "      <td>16.0</td>\n",
       "      <td>108.0</td>\n",
       "      <td>1.0</td>\n",
       "    </tr>\n",
       "    <tr>\n",
       "      <th>3</th>\n",
       "      <td>4.0</td>\n",
       "      <td>realme</td>\n",
       "      <td>realme GT 2 Pro</td>\n",
       "      <td>Smart Phone</td>\n",
       "      <td>128.0</td>\n",
       "      <td>Qualcomm Snapdragon 8 Gen 1</td>\n",
       "      <td>8.0</td>\n",
       "      <td>5000.0</td>\n",
       "      <td>32.0</td>\n",
       "      <td>102.0</td>\n",
       "      <td>1.0</td>\n",
       "    </tr>\n",
       "    <tr>\n",
       "      <th>4</th>\n",
       "      <td>5.0</td>\n",
       "      <td>IQOO</td>\n",
       "      <td>IQOO Z6</td>\n",
       "      <td>Smart Phone</td>\n",
       "      <td>128.0</td>\n",
       "      <td>Snapdragon 695</td>\n",
       "      <td>8.0</td>\n",
       "      <td>5000.0</td>\n",
       "      <td>16.0</td>\n",
       "      <td>54.0</td>\n",
       "      <td>1.0</td>\n",
       "    </tr>\n",
       "    <tr>\n",
       "      <th>5</th>\n",
       "      <td>6.0</td>\n",
       "      <td>Samsung</td>\n",
       "      <td>Samsung Galaxy M33</td>\n",
       "      <td>Smart Phone</td>\n",
       "      <td>128.0</td>\n",
       "      <td>Octa Core Exynos</td>\n",
       "      <td>6.0</td>\n",
       "      <td>6000.0</td>\n",
       "      <td>8.0</td>\n",
       "      <td>54.0</td>\n",
       "      <td>1.0</td>\n",
       "    </tr>\n",
       "    <tr>\n",
       "      <th>6</th>\n",
       "      <td>7.0</td>\n",
       "      <td>Mi</td>\n",
       "      <td>Mi 10</td>\n",
       "      <td>Smart Phone</td>\n",
       "      <td>256.0</td>\n",
       "      <td>Octa Core Qualcomm Snapdragon</td>\n",
       "      <td>8.0</td>\n",
       "      <td>4780.0</td>\n",
       "      <td>20.0</td>\n",
       "      <td>123.0</td>\n",
       "      <td>1.0</td>\n",
       "    </tr>\n",
       "    <tr>\n",
       "      <th>7</th>\n",
       "      <td>8.0</td>\n",
       "      <td>OPPO</td>\n",
       "      <td>Oppo F21 Pro</td>\n",
       "      <td>Smart Phone</td>\n",
       "      <td>128.0</td>\n",
       "      <td>Octa Core Qualcomm Snapdragon 695</td>\n",
       "      <td>8.0</td>\n",
       "      <td>4500.0</td>\n",
       "      <td>32.0</td>\n",
       "      <td>68.0</td>\n",
       "      <td>1.0</td>\n",
       "    </tr>\n",
       "    <tr>\n",
       "      <th>8</th>\n",
       "      <td>9.0</td>\n",
       "      <td>VIVO</td>\n",
       "      <td>Vivo V23 Pro</td>\n",
       "      <td>Smart Phone</td>\n",
       "      <td>128.0</td>\n",
       "      <td>Mediatek Dimensity</td>\n",
       "      <td>8.0</td>\n",
       "      <td>4300.0</td>\n",
       "      <td>58.0</td>\n",
       "      <td>118.0</td>\n",
       "      <td>1.0</td>\n",
       "    </tr>\n",
       "    <tr>\n",
       "      <th>9</th>\n",
       "      <td>10.0</td>\n",
       "      <td>Samsung</td>\n",
       "      <td>Samsung Galaxy Z Flip</td>\n",
       "      <td>Smart Phone</td>\n",
       "      <td>256.0</td>\n",
       "      <td>Snapdragon 8 Gen 2</td>\n",
       "      <td>8.0</td>\n",
       "      <td>3700.0</td>\n",
       "      <td>10.0</td>\n",
       "      <td>34.0</td>\n",
       "      <td>1.0</td>\n",
       "    </tr>\n",
       "    <tr>\n",
       "      <th>10</th>\n",
       "      <td>11.0</td>\n",
       "      <td>OPPO</td>\n",
       "      <td>Oppo Reno 10 Pro</td>\n",
       "      <td>Smart Phone</td>\n",
       "      <td>256.0</td>\n",
       "      <td>Qualcomm Snapdragon 8 Gen 1</td>\n",
       "      <td>12.0</td>\n",
       "      <td>4700.0</td>\n",
       "      <td>32.0</td>\n",
       "      <td>122.0</td>\n",
       "      <td>1.0</td>\n",
       "    </tr>\n",
       "    <tr>\n",
       "      <th>11</th>\n",
       "      <td>12.0</td>\n",
       "      <td>Oneplus</td>\n",
       "      <td>Oneplus Nord 3</td>\n",
       "      <td>Smart Phone</td>\n",
       "      <td>256.0</td>\n",
       "      <td>Mediatek Dimensity 9000</td>\n",
       "      <td>16.0</td>\n",
       "      <td>5000.0</td>\n",
       "      <td>16.0</td>\n",
       "      <td>60.0</td>\n",
       "      <td>1.0</td>\n",
       "    </tr>\n",
       "    <tr>\n",
       "      <th>12</th>\n",
       "      <td>13.0</td>\n",
       "      <td>Motorola</td>\n",
       "      <td>Motorola Razr 40 Ultra</td>\n",
       "      <td>Smart Phone</td>\n",
       "      <td>256.0</td>\n",
       "      <td>Qualcomm Snapdragon 8 Gen 1</td>\n",
       "      <td>8.0</td>\n",
       "      <td>3800.0</td>\n",
       "      <td>32.0</td>\n",
       "      <td>25.0</td>\n",
       "      <td>1.0</td>\n",
       "    </tr>\n",
       "    <tr>\n",
       "      <th>13</th>\n",
       "      <td>14.0</td>\n",
       "      <td>Samsung</td>\n",
       "      <td>Samsung Galaxy S23 Ultra</td>\n",
       "      <td>Smart Phone</td>\n",
       "      <td>256.0</td>\n",
       "      <td>Snapdragon 8 Gen 2</td>\n",
       "      <td>8.0</td>\n",
       "      <td>5000.0</td>\n",
       "      <td>12.0</td>\n",
       "      <td>222.0</td>\n",
       "      <td>1.0</td>\n",
       "    </tr>\n",
       "    <tr>\n",
       "      <th>14</th>\n",
       "      <td>15.0</td>\n",
       "      <td>Samsung</td>\n",
       "      <td>Samsung Galaxy S23</td>\n",
       "      <td>Smart Phone</td>\n",
       "      <td>256.0</td>\n",
       "      <td>Snapdragon 8 Gen 2</td>\n",
       "      <td>8.0</td>\n",
       "      <td>3900.0</td>\n",
       "      <td>12.0</td>\n",
       "      <td>72.0</td>\n",
       "      <td>1.0</td>\n",
       "    </tr>\n",
       "    <tr>\n",
       "      <th>15</th>\n",
       "      <td>16.0</td>\n",
       "      <td>Oneplus</td>\n",
       "      <td>Oneplus 11R</td>\n",
       "      <td>Smart Phone</td>\n",
       "      <td>256.0</td>\n",
       "      <td>Qualcomm Snapdragon 8 Gen 1</td>\n",
       "      <td>16.0</td>\n",
       "      <td>5000.0</td>\n",
       "      <td>16.0</td>\n",
       "      <td>60.0</td>\n",
       "      <td>1.0</td>\n",
       "    </tr>\n",
       "    <tr>\n",
       "      <th>16</th>\n",
       "      <td>17.0</td>\n",
       "      <td>Oneplus</td>\n",
       "      <td>Oneplus 11</td>\n",
       "      <td>Smart Phone</td>\n",
       "      <td>256.0</td>\n",
       "      <td>Snapdragon 8 Gen 2</td>\n",
       "      <td>12.0</td>\n",
       "      <td>5000.0</td>\n",
       "      <td>16.0</td>\n",
       "      <td>130.0</td>\n",
       "      <td>1.0</td>\n",
       "    </tr>\n",
       "    <tr>\n",
       "      <th>17</th>\n",
       "      <td>18.0</td>\n",
       "      <td>Redmi</td>\n",
       "      <td>Redmi Note 12 Pro</td>\n",
       "      <td>Smart Phone</td>\n",
       "      <td>256.0</td>\n",
       "      <td>Mediatek</td>\n",
       "      <td>12.0</td>\n",
       "      <td>4980.0</td>\n",
       "      <td>16.0</td>\n",
       "      <td>210.0</td>\n",
       "      <td>1.0</td>\n",
       "    </tr>\n",
       "    <tr>\n",
       "      <th>18</th>\n",
       "      <td>19.0</td>\n",
       "      <td>OPPO</td>\n",
       "      <td>Oppo Find N2 Flip</td>\n",
       "      <td>Smart Phone</td>\n",
       "      <td>256.0</td>\n",
       "      <td>Mediatek Dimensity 9000</td>\n",
       "      <td>12.0</td>\n",
       "      <td>4300.0</td>\n",
       "      <td>32.0</td>\n",
       "      <td>58.0</td>\n",
       "      <td>1.0</td>\n",
       "    </tr>\n",
       "    <tr>\n",
       "      <th>19</th>\n",
       "      <td>20.0</td>\n",
       "      <td>IQOO</td>\n",
       "      <td>IQOO 11</td>\n",
       "      <td>Smart Phone</td>\n",
       "      <td>128.0</td>\n",
       "      <td>Qualcomm Snapdragon</td>\n",
       "      <td>8.0</td>\n",
       "      <td>5000.0</td>\n",
       "      <td>16.0</td>\n",
       "      <td>71.0</td>\n",
       "      <td>1.0</td>\n",
       "    </tr>\n",
       "    <tr>\n",
       "      <th>20</th>\n",
       "      <td>21.0</td>\n",
       "      <td>Xiaomi</td>\n",
       "      <td>Xiamoi 13 Pro</td>\n",
       "      <td>Smart Phone</td>\n",
       "      <td>256.0</td>\n",
       "      <td>Snapdragon 8 Gen 2</td>\n",
       "      <td>12.0</td>\n",
       "      <td>4820.0</td>\n",
       "      <td>32.0</td>\n",
       "      <td>150.0</td>\n",
       "      <td>1.0</td>\n",
       "    </tr>\n",
       "    <tr>\n",
       "      <th>21</th>\n",
       "      <td>22.0</td>\n",
       "      <td>Google</td>\n",
       "      <td>Google Pixel 7 Pro</td>\n",
       "      <td>Smart Phone</td>\n",
       "      <td>128.0</td>\n",
       "      <td>Google Tensor G2</td>\n",
       "      <td>12.0</td>\n",
       "      <td>3500.0</td>\n",
       "      <td>10.8</td>\n",
       "      <td>110.0</td>\n",
       "      <td>1.0</td>\n",
       "    </tr>\n",
       "    <tr>\n",
       "      <th>22</th>\n",
       "      <td>23.0</td>\n",
       "      <td>Google</td>\n",
       "      <td>Google Pixel 7</td>\n",
       "      <td>Smart Phone</td>\n",
       "      <td>128.0</td>\n",
       "      <td>Google Tensor G2</td>\n",
       "      <td>8.0</td>\n",
       "      <td>3500.0</td>\n",
       "      <td>10.8</td>\n",
       "      <td>62.0</td>\n",
       "      <td>1.0</td>\n",
       "    </tr>\n",
       "    <tr>\n",
       "      <th>23</th>\n",
       "      <td>24.0</td>\n",
       "      <td>Motorola</td>\n",
       "      <td>Motorola Edge 30 Fusion</td>\n",
       "      <td>Smart Phone</td>\n",
       "      <td>128.0</td>\n",
       "      <td>Qualcomm Snapdragon 888</td>\n",
       "      <td>8.0</td>\n",
       "      <td>4400.0</td>\n",
       "      <td>32.0</td>\n",
       "      <td>63.0</td>\n",
       "      <td>1.0</td>\n",
       "    </tr>\n",
       "    <tr>\n",
       "      <th>24</th>\n",
       "      <td>25.0</td>\n",
       "      <td>Apple</td>\n",
       "      <td>iPhone 14</td>\n",
       "      <td>Smart Phone</td>\n",
       "      <td>128.0</td>\n",
       "      <td>A15 Bionic Chip</td>\n",
       "      <td>12.0</td>\n",
       "      <td>5000.0</td>\n",
       "      <td>12.0</td>\n",
       "      <td>24.0</td>\n",
       "      <td>1.0</td>\n",
       "    </tr>\n",
       "    <tr>\n",
       "      <th>25</th>\n",
       "      <td>26.0</td>\n",
       "      <td>Apple</td>\n",
       "      <td>iPhone 14 Plus</td>\n",
       "      <td>Smart Phone</td>\n",
       "      <td>128.0</td>\n",
       "      <td>A15 Bionic Chip</td>\n",
       "      <td>12.0</td>\n",
       "      <td>5000.0</td>\n",
       "      <td>12.0</td>\n",
       "      <td>24.0</td>\n",
       "      <td>1.0</td>\n",
       "    </tr>\n",
       "    <tr>\n",
       "      <th>26</th>\n",
       "      <td>27.0</td>\n",
       "      <td>Apple</td>\n",
       "      <td>iPhone 14 Pro</td>\n",
       "      <td>Smart Phone</td>\n",
       "      <td>128.0</td>\n",
       "      <td>A16 Bionic Chip</td>\n",
       "      <td>6.0</td>\n",
       "      <td>5000.0</td>\n",
       "      <td>12.0</td>\n",
       "      <td>72.0</td>\n",
       "      <td>1.0</td>\n",
       "    </tr>\n",
       "    <tr>\n",
       "      <th>27</th>\n",
       "      <td>28.0</td>\n",
       "      <td>Samsung</td>\n",
       "      <td>Samsung Galaxy Z Fold 4</td>\n",
       "      <td>Smart Phone</td>\n",
       "      <td>256.0</td>\n",
       "      <td>Qualcomm Snapdragon 8 Gen 1</td>\n",
       "      <td>12.0</td>\n",
       "      <td>4400.0</td>\n",
       "      <td>14.0</td>\n",
       "      <td>72.0</td>\n",
       "      <td>1.0</td>\n",
       "    </tr>\n",
       "    <tr>\n",
       "      <th>28</th>\n",
       "      <td>29.0</td>\n",
       "      <td>Infinix</td>\n",
       "      <td>Infinix Hot 30</td>\n",
       "      <td>Smart Phone</td>\n",
       "      <td>128.0</td>\n",
       "      <td>Mediatek Dimensity 6020</td>\n",
       "      <td>8.0</td>\n",
       "      <td>6000.0</td>\n",
       "      <td>8.0</td>\n",
       "      <td>52.0</td>\n",
       "      <td>1.0</td>\n",
       "    </tr>\n",
       "    <tr>\n",
       "      <th>29</th>\n",
       "      <td>30.0</td>\n",
       "      <td>IQOO</td>\n",
       "      <td>IQOO Neo 7 Pro</td>\n",
       "      <td>Smart Phone</td>\n",
       "      <td>128.0</td>\n",
       "      <td>Qualcomm Snapdragon 8 Gen 1</td>\n",
       "      <td>8.0</td>\n",
       "      <td>5000.0</td>\n",
       "      <td>16.0</td>\n",
       "      <td>60.0</td>\n",
       "      <td>1.0</td>\n",
       "    </tr>\n",
       "    <tr>\n",
       "      <th>30</th>\n",
       "      <td>31.0</td>\n",
       "      <td>VIVO</td>\n",
       "      <td>Vivo V25 Pro</td>\n",
       "      <td>Smart Phone</td>\n",
       "      <td>128.0</td>\n",
       "      <td>Mediatek Dimensity 1300</td>\n",
       "      <td>12.0</td>\n",
       "      <td>4830.0</td>\n",
       "      <td>32.0</td>\n",
       "      <td>74.0</td>\n",
       "      <td>1.0</td>\n",
       "    </tr>\n",
       "    <tr>\n",
       "      <th>31</th>\n",
       "      <td>32.0</td>\n",
       "      <td>Oneplus</td>\n",
       "      <td>Oneplus 10T</td>\n",
       "      <td>Smart Phone</td>\n",
       "      <td>256.0</td>\n",
       "      <td>Qualcomm Snapdragon 8 Gen 1</td>\n",
       "      <td>16.0</td>\n",
       "      <td>4800.0</td>\n",
       "      <td>16.0</td>\n",
       "      <td>60.0</td>\n",
       "      <td>1.0</td>\n",
       "    </tr>\n",
       "    <tr>\n",
       "      <th>32</th>\n",
       "      <td>33.0</td>\n",
       "      <td>IQOO</td>\n",
       "      <td>IQOO Z6 Lite</td>\n",
       "      <td>Smart Phone</td>\n",
       "      <td>128.0</td>\n",
       "      <td>Qualcomm Snapdragon 4 Gen 1</td>\n",
       "      <td>8.0</td>\n",
       "      <td>5000.0</td>\n",
       "      <td>8.0</td>\n",
       "      <td>52.0</td>\n",
       "      <td>1.0</td>\n",
       "    </tr>\n",
       "    <tr>\n",
       "      <th>33</th>\n",
       "      <td>34.0</td>\n",
       "      <td>Motorola</td>\n",
       "      <td>Motorola Moto G72</td>\n",
       "      <td>Smart Phone</td>\n",
       "      <td>128.0</td>\n",
       "      <td>Mediatek Helio G99</td>\n",
       "      <td>6.0</td>\n",
       "      <td>5000.0</td>\n",
       "      <td>16.0</td>\n",
       "      <td>118.0</td>\n",
       "      <td>1.0</td>\n",
       "    </tr>\n",
       "    <tr>\n",
       "      <th>34</th>\n",
       "      <td>35.0</td>\n",
       "      <td>realme</td>\n",
       "      <td>Realme 10 Pro Plus</td>\n",
       "      <td>Smart Phone</td>\n",
       "      <td>128.0</td>\n",
       "      <td>Mediatek</td>\n",
       "      <td>8.0</td>\n",
       "      <td>5000.0</td>\n",
       "      <td>16.0</td>\n",
       "      <td>118.0</td>\n",
       "      <td>1.0</td>\n",
       "    </tr>\n",
       "    <tr>\n",
       "      <th>35</th>\n",
       "      <td>NaN</td>\n",
       "      <td>NaN</td>\n",
       "      <td>NaN</td>\n",
       "      <td>NaN</td>\n",
       "      <td>NaN</td>\n",
       "      <td>NaN</td>\n",
       "      <td>NaN</td>\n",
       "      <td>NaN</td>\n",
       "      <td>NaN</td>\n",
       "      <td>NaN</td>\n",
       "      <td>NaN</td>\n",
       "    </tr>\n",
       "  </tbody>\n",
       "</table>\n",
       "</div>"
      ],
      "text/plain": [
       "    S.No Brand Name              Product Name  Form Factor  \\\n",
       "0    1.0      Apple   Apple iPhone 13 Pro Max  Smart Phone   \n",
       "1    2.0     Xiaomi             Xiamoi 12 Pro  Smart Phone   \n",
       "2    3.0    Oneplus            Oneplus 9 Pro   Smart Phone   \n",
       "3    4.0     realme           realme GT 2 Pro  Smart Phone   \n",
       "4    5.0      IQOO                   IQOO Z6   Smart Phone   \n",
       "5    6.0    Samsung        Samsung Galaxy M33  Smart Phone   \n",
       "6    7.0        Mi                      Mi 10  Smart Phone   \n",
       "7    8.0       OPPO              Oppo F21 Pro  Smart Phone   \n",
       "8    9.0       VIVO              Vivo V23 Pro  Smart Phone   \n",
       "9   10.0    Samsung     Samsung Galaxy Z Flip  Smart Phone   \n",
       "10  11.0       OPPO          Oppo Reno 10 Pro  Smart Phone   \n",
       "11  12.0    Oneplus            Oneplus Nord 3  Smart Phone   \n",
       "12  13.0   Motorola    Motorola Razr 40 Ultra  Smart Phone   \n",
       "13  14.0    Samsung  Samsung Galaxy S23 Ultra  Smart Phone   \n",
       "14  15.0    Samsung        Samsung Galaxy S23  Smart Phone   \n",
       "15  16.0    Oneplus               Oneplus 11R  Smart Phone   \n",
       "16  17.0    Oneplus                Oneplus 11  Smart Phone   \n",
       "17  18.0      Redmi         Redmi Note 12 Pro  Smart Phone   \n",
       "18  19.0       OPPO         Oppo Find N2 Flip  Smart Phone   \n",
       "19  20.0      IQOO                    IQOO 11  Smart Phone   \n",
       "20  21.0     Xiaomi             Xiamoi 13 Pro  Smart Phone   \n",
       "21  22.0    Google         Google Pixel 7 Pro  Smart Phone   \n",
       "22  23.0    Google            Google Pixel 7   Smart Phone   \n",
       "23  24.0   Motorola   Motorola Edge 30 Fusion  Smart Phone   \n",
       "24  25.0      Apple                 iPhone 14  Smart Phone   \n",
       "25  26.0      Apple            iPhone 14 Plus  Smart Phone   \n",
       "26  27.0      Apple             iPhone 14 Pro  Smart Phone   \n",
       "27  28.0    Samsung   Samsung Galaxy Z Fold 4  Smart Phone   \n",
       "28  29.0    Infinix           Infinix Hot 30   Smart Phone   \n",
       "29  30.0      IQOO             IQOO Neo 7 Pro  Smart Phone   \n",
       "30  31.0       VIVO              Vivo V25 Pro  Smart Phone   \n",
       "31  32.0    Oneplus              Oneplus 10T   Smart Phone   \n",
       "32  33.0      IQOO               IQOO Z6 Lite  Smart Phone   \n",
       "33  34.0   Motorola         Motorola Moto G72  Smart Phone   \n",
       "34  35.0     realme        Realme 10 Pro Plus  Smart Phone   \n",
       "35   NaN        NaN                       NaN          NaN   \n",
       "\n",
       "    Memory Storage (GB)                          Processor  RAM (GB)  \\\n",
       "0                 128.0                    A15 Bionic Chip      16.0   \n",
       "1                 256.0                 Snapdragon 8 Gen 1      12.0   \n",
       "2                 128.0            Qualcomm Snapdragon 888       8.0   \n",
       "3                 128.0        Qualcomm Snapdragon 8 Gen 1       8.0   \n",
       "4                 128.0                     Snapdragon 695       8.0   \n",
       "5                 128.0                   Octa Core Exynos       6.0   \n",
       "6                 256.0      Octa Core Qualcomm Snapdragon       8.0   \n",
       "7                 128.0  Octa Core Qualcomm Snapdragon 695       8.0   \n",
       "8                 128.0                 Mediatek Dimensity       8.0   \n",
       "9                 256.0                 Snapdragon 8 Gen 2       8.0   \n",
       "10                256.0        Qualcomm Snapdragon 8 Gen 1      12.0   \n",
       "11                256.0            Mediatek Dimensity 9000      16.0   \n",
       "12                256.0        Qualcomm Snapdragon 8 Gen 1       8.0   \n",
       "13                256.0                 Snapdragon 8 Gen 2       8.0   \n",
       "14                256.0                 Snapdragon 8 Gen 2       8.0   \n",
       "15                256.0        Qualcomm Snapdragon 8 Gen 1      16.0   \n",
       "16                256.0                 Snapdragon 8 Gen 2      12.0   \n",
       "17                256.0                           Mediatek      12.0   \n",
       "18                256.0            Mediatek Dimensity 9000      12.0   \n",
       "19                128.0               Qualcomm Snapdragon        8.0   \n",
       "20                256.0                 Snapdragon 8 Gen 2      12.0   \n",
       "21                128.0                   Google Tensor G2      12.0   \n",
       "22                128.0                   Google Tensor G2       8.0   \n",
       "23                128.0            Qualcomm Snapdragon 888       8.0   \n",
       "24                128.0                    A15 Bionic Chip      12.0   \n",
       "25                128.0                    A15 Bionic Chip      12.0   \n",
       "26                128.0                    A16 Bionic Chip       6.0   \n",
       "27                256.0        Qualcomm Snapdragon 8 Gen 1      12.0   \n",
       "28                128.0            Mediatek Dimensity 6020       8.0   \n",
       "29                128.0        Qualcomm Snapdragon 8 Gen 1       8.0   \n",
       "30                128.0            Mediatek Dimensity 1300      12.0   \n",
       "31                256.0        Qualcomm Snapdragon 8 Gen 1      16.0   \n",
       "32                128.0        Qualcomm Snapdragon 4 Gen 1       8.0   \n",
       "33                128.0                 Mediatek Helio G99       6.0   \n",
       "34                128.0                          Mediatek        8.0   \n",
       "35                  NaN                                NaN       NaN   \n",
       "\n",
       "    Battery (mAh)  Front Camera (MP)  Rear Camera (MP)  Warranty (Year)  \n",
       "0          5000.0               12.0              12.0              1.0  \n",
       "1          4600.0               32.0             150.0              1.0  \n",
       "2          4500.0               16.0             108.0              1.0  \n",
       "3          5000.0               32.0             102.0              1.0  \n",
       "4          5000.0               16.0              54.0              1.0  \n",
       "5          6000.0                8.0              54.0              1.0  \n",
       "6          4780.0               20.0             123.0              1.0  \n",
       "7          4500.0               32.0              68.0              1.0  \n",
       "8          4300.0               58.0             118.0              1.0  \n",
       "9          3700.0               10.0              34.0              1.0  \n",
       "10         4700.0               32.0             122.0              1.0  \n",
       "11         5000.0               16.0              60.0              1.0  \n",
       "12         3800.0               32.0              25.0              1.0  \n",
       "13         5000.0               12.0             222.0              1.0  \n",
       "14         3900.0               12.0              72.0              1.0  \n",
       "15         5000.0               16.0              60.0              1.0  \n",
       "16         5000.0               16.0             130.0              1.0  \n",
       "17         4980.0               16.0             210.0              1.0  \n",
       "18         4300.0               32.0              58.0              1.0  \n",
       "19         5000.0               16.0              71.0              1.0  \n",
       "20         4820.0               32.0             150.0              1.0  \n",
       "21         3500.0               10.8             110.0              1.0  \n",
       "22         3500.0               10.8              62.0              1.0  \n",
       "23         4400.0               32.0              63.0              1.0  \n",
       "24         5000.0               12.0              24.0              1.0  \n",
       "25         5000.0               12.0              24.0              1.0  \n",
       "26         5000.0               12.0              72.0              1.0  \n",
       "27         4400.0               14.0              72.0              1.0  \n",
       "28         6000.0                8.0              52.0              1.0  \n",
       "29         5000.0               16.0              60.0              1.0  \n",
       "30         4830.0               32.0              74.0              1.0  \n",
       "31         4800.0               16.0              60.0              1.0  \n",
       "32         5000.0                8.0              52.0              1.0  \n",
       "33         5000.0               16.0             118.0              1.0  \n",
       "34         5000.0               16.0             118.0              1.0  \n",
       "35            NaN                NaN               NaN              NaN  "
      ]
     },
     "execution_count": 46,
     "metadata": {},
     "output_type": "execute_result"
    }
   ],
   "source": [
    "df"
   ]
  },
  {
   "cell_type": "code",
   "execution_count": 47,
   "metadata": {},
   "outputs": [
    {
     "data": {
      "text/html": [
       "<div>\n",
       "<style scoped>\n",
       "    .dataframe tbody tr th:only-of-type {\n",
       "        vertical-align: middle;\n",
       "    }\n",
       "\n",
       "    .dataframe tbody tr th {\n",
       "        vertical-align: top;\n",
       "    }\n",
       "\n",
       "    .dataframe thead th {\n",
       "        text-align: right;\n",
       "    }\n",
       "</style>\n",
       "<table border=\"1\" class=\"dataframe\">\n",
       "  <thead>\n",
       "    <tr style=\"text-align: right;\">\n",
       "      <th></th>\n",
       "      <th>S.No</th>\n",
       "      <th>Brand Name</th>\n",
       "      <th>Product Name</th>\n",
       "      <th>Form Factor</th>\n",
       "      <th>Memory Storage (GB)</th>\n",
       "      <th>Processor</th>\n",
       "      <th>RAM (GB)</th>\n",
       "      <th>Battery (mAh)</th>\n",
       "      <th>Front Camera (MP)</th>\n",
       "      <th>Rear Camera (MP)</th>\n",
       "      <th>Warranty (Year)</th>\n",
       "    </tr>\n",
       "  </thead>\n",
       "  <tbody>\n",
       "    <tr>\n",
       "      <th>0</th>\n",
       "      <td>1.0</td>\n",
       "      <td>Apple</td>\n",
       "      <td>Apple iPhone 13 Pro Max</td>\n",
       "      <td>Smart Phone</td>\n",
       "      <td>128.0</td>\n",
       "      <td>A15 Bionic Chip</td>\n",
       "      <td>16.0</td>\n",
       "      <td>5000.0</td>\n",
       "      <td>12.0</td>\n",
       "      <td>12.0</td>\n",
       "      <td>1.0</td>\n",
       "    </tr>\n",
       "    <tr>\n",
       "      <th>1</th>\n",
       "      <td>2.0</td>\n",
       "      <td>Xiaomi</td>\n",
       "      <td>Xiamoi 12 Pro</td>\n",
       "      <td>Smart Phone</td>\n",
       "      <td>256.0</td>\n",
       "      <td>Snapdragon 8 Gen 1</td>\n",
       "      <td>12.0</td>\n",
       "      <td>4600.0</td>\n",
       "      <td>32.0</td>\n",
       "      <td>150.0</td>\n",
       "      <td>1.0</td>\n",
       "    </tr>\n",
       "    <tr>\n",
       "      <th>2</th>\n",
       "      <td>3.0</td>\n",
       "      <td>Oneplus</td>\n",
       "      <td>Oneplus 9 Pro</td>\n",
       "      <td>Smart Phone</td>\n",
       "      <td>128.0</td>\n",
       "      <td>Qualcomm Snapdragon 888</td>\n",
       "      <td>8.0</td>\n",
       "      <td>4500.0</td>\n",
       "      <td>16.0</td>\n",
       "      <td>108.0</td>\n",
       "      <td>1.0</td>\n",
       "    </tr>\n",
       "    <tr>\n",
       "      <th>3</th>\n",
       "      <td>4.0</td>\n",
       "      <td>realme</td>\n",
       "      <td>realme GT 2 Pro</td>\n",
       "      <td>Smart Phone</td>\n",
       "      <td>128.0</td>\n",
       "      <td>Qualcomm Snapdragon 8 Gen 1</td>\n",
       "      <td>8.0</td>\n",
       "      <td>5000.0</td>\n",
       "      <td>32.0</td>\n",
       "      <td>102.0</td>\n",
       "      <td>1.0</td>\n",
       "    </tr>\n",
       "    <tr>\n",
       "      <th>4</th>\n",
       "      <td>5.0</td>\n",
       "      <td>IQOO</td>\n",
       "      <td>IQOO Z6</td>\n",
       "      <td>Smart Phone</td>\n",
       "      <td>128.0</td>\n",
       "      <td>Snapdragon 695</td>\n",
       "      <td>8.0</td>\n",
       "      <td>5000.0</td>\n",
       "      <td>16.0</td>\n",
       "      <td>54.0</td>\n",
       "      <td>1.0</td>\n",
       "    </tr>\n",
       "  </tbody>\n",
       "</table>\n",
       "</div>"
      ],
      "text/plain": [
       "   S.No Brand Name             Product Name  Form Factor  Memory Storage (GB)  \\\n",
       "0   1.0      Apple  Apple iPhone 13 Pro Max  Smart Phone                128.0   \n",
       "1   2.0     Xiaomi            Xiamoi 12 Pro  Smart Phone                256.0   \n",
       "2   3.0    Oneplus           Oneplus 9 Pro   Smart Phone                128.0   \n",
       "3   4.0     realme          realme GT 2 Pro  Smart Phone                128.0   \n",
       "4   5.0      IQOO                  IQOO Z6   Smart Phone                128.0   \n",
       "\n",
       "                     Processor  RAM (GB)  Battery (mAh)  Front Camera (MP)  \\\n",
       "0              A15 Bionic Chip      16.0         5000.0               12.0   \n",
       "1           Snapdragon 8 Gen 1      12.0         4600.0               32.0   \n",
       "2      Qualcomm Snapdragon 888       8.0         4500.0               16.0   \n",
       "3  Qualcomm Snapdragon 8 Gen 1       8.0         5000.0               32.0   \n",
       "4               Snapdragon 695       8.0         5000.0               16.0   \n",
       "\n",
       "   Rear Camera (MP)  Warranty (Year)  \n",
       "0              12.0              1.0  \n",
       "1             150.0              1.0  \n",
       "2             108.0              1.0  \n",
       "3             102.0              1.0  \n",
       "4              54.0              1.0  "
      ]
     },
     "execution_count": 47,
     "metadata": {},
     "output_type": "execute_result"
    }
   ],
   "source": [
    "df.head()"
   ]
  },
  {
   "cell_type": "code",
   "execution_count": 48,
   "metadata": {},
   "outputs": [
    {
     "data": {
      "text/html": [
       "<div>\n",
       "<style scoped>\n",
       "    .dataframe tbody tr th:only-of-type {\n",
       "        vertical-align: middle;\n",
       "    }\n",
       "\n",
       "    .dataframe tbody tr th {\n",
       "        vertical-align: top;\n",
       "    }\n",
       "\n",
       "    .dataframe thead th {\n",
       "        text-align: right;\n",
       "    }\n",
       "</style>\n",
       "<table border=\"1\" class=\"dataframe\">\n",
       "  <thead>\n",
       "    <tr style=\"text-align: right;\">\n",
       "      <th></th>\n",
       "      <th>S.No</th>\n",
       "      <th>Brand Name</th>\n",
       "      <th>Product Name</th>\n",
       "      <th>Form Factor</th>\n",
       "      <th>Memory Storage (GB)</th>\n",
       "      <th>Processor</th>\n",
       "      <th>RAM (GB)</th>\n",
       "      <th>Battery (mAh)</th>\n",
       "      <th>Front Camera (MP)</th>\n",
       "      <th>Rear Camera (MP)</th>\n",
       "      <th>Warranty (Year)</th>\n",
       "    </tr>\n",
       "  </thead>\n",
       "  <tbody>\n",
       "    <tr>\n",
       "      <th>31</th>\n",
       "      <td>32.0</td>\n",
       "      <td>Oneplus</td>\n",
       "      <td>Oneplus 10T</td>\n",
       "      <td>Smart Phone</td>\n",
       "      <td>256.0</td>\n",
       "      <td>Qualcomm Snapdragon 8 Gen 1</td>\n",
       "      <td>16.0</td>\n",
       "      <td>4800.0</td>\n",
       "      <td>16.0</td>\n",
       "      <td>60.0</td>\n",
       "      <td>1.0</td>\n",
       "    </tr>\n",
       "    <tr>\n",
       "      <th>32</th>\n",
       "      <td>33.0</td>\n",
       "      <td>IQOO</td>\n",
       "      <td>IQOO Z6 Lite</td>\n",
       "      <td>Smart Phone</td>\n",
       "      <td>128.0</td>\n",
       "      <td>Qualcomm Snapdragon 4 Gen 1</td>\n",
       "      <td>8.0</td>\n",
       "      <td>5000.0</td>\n",
       "      <td>8.0</td>\n",
       "      <td>52.0</td>\n",
       "      <td>1.0</td>\n",
       "    </tr>\n",
       "    <tr>\n",
       "      <th>33</th>\n",
       "      <td>34.0</td>\n",
       "      <td>Motorola</td>\n",
       "      <td>Motorola Moto G72</td>\n",
       "      <td>Smart Phone</td>\n",
       "      <td>128.0</td>\n",
       "      <td>Mediatek Helio G99</td>\n",
       "      <td>6.0</td>\n",
       "      <td>5000.0</td>\n",
       "      <td>16.0</td>\n",
       "      <td>118.0</td>\n",
       "      <td>1.0</td>\n",
       "    </tr>\n",
       "    <tr>\n",
       "      <th>34</th>\n",
       "      <td>35.0</td>\n",
       "      <td>realme</td>\n",
       "      <td>Realme 10 Pro Plus</td>\n",
       "      <td>Smart Phone</td>\n",
       "      <td>128.0</td>\n",
       "      <td>Mediatek</td>\n",
       "      <td>8.0</td>\n",
       "      <td>5000.0</td>\n",
       "      <td>16.0</td>\n",
       "      <td>118.0</td>\n",
       "      <td>1.0</td>\n",
       "    </tr>\n",
       "    <tr>\n",
       "      <th>35</th>\n",
       "      <td>NaN</td>\n",
       "      <td>NaN</td>\n",
       "      <td>NaN</td>\n",
       "      <td>NaN</td>\n",
       "      <td>NaN</td>\n",
       "      <td>NaN</td>\n",
       "      <td>NaN</td>\n",
       "      <td>NaN</td>\n",
       "      <td>NaN</td>\n",
       "      <td>NaN</td>\n",
       "      <td>NaN</td>\n",
       "    </tr>\n",
       "  </tbody>\n",
       "</table>\n",
       "</div>"
      ],
      "text/plain": [
       "    S.No Brand Name        Product Name  Form Factor  Memory Storage (GB)  \\\n",
       "31  32.0    Oneplus        Oneplus 10T   Smart Phone                256.0   \n",
       "32  33.0      IQOO         IQOO Z6 Lite  Smart Phone                128.0   \n",
       "33  34.0   Motorola   Motorola Moto G72  Smart Phone                128.0   \n",
       "34  35.0     realme  Realme 10 Pro Plus  Smart Phone                128.0   \n",
       "35   NaN        NaN                 NaN          NaN                  NaN   \n",
       "\n",
       "                      Processor  RAM (GB)  Battery (mAh)  Front Camera (MP)  \\\n",
       "31  Qualcomm Snapdragon 8 Gen 1      16.0         4800.0               16.0   \n",
       "32  Qualcomm Snapdragon 4 Gen 1       8.0         5000.0                8.0   \n",
       "33           Mediatek Helio G99       6.0         5000.0               16.0   \n",
       "34                    Mediatek        8.0         5000.0               16.0   \n",
       "35                          NaN       NaN            NaN                NaN   \n",
       "\n",
       "    Rear Camera (MP)  Warranty (Year)  \n",
       "31              60.0              1.0  \n",
       "32              52.0              1.0  \n",
       "33             118.0              1.0  \n",
       "34             118.0              1.0  \n",
       "35               NaN              NaN  "
      ]
     },
     "execution_count": 48,
     "metadata": {},
     "output_type": "execute_result"
    }
   ],
   "source": [
    "df.tail()"
   ]
  },
  {
   "cell_type": "code",
   "execution_count": 49,
   "metadata": {},
   "outputs": [
    {
     "data": {
      "text/plain": [
       "(36, 11)"
      ]
     },
     "execution_count": 49,
     "metadata": {},
     "output_type": "execute_result"
    }
   ],
   "source": [
    "df.shape"
   ]
  },
  {
   "cell_type": "code",
   "execution_count": 50,
   "metadata": {},
   "outputs": [
    {
     "name": "stdout",
     "output_type": "stream",
     "text": [
      "<class 'pandas.core.frame.DataFrame'>\n",
      "RangeIndex: 36 entries, 0 to 35\n",
      "Data columns (total 11 columns):\n",
      " #   Column               Non-Null Count  Dtype  \n",
      "---  ------               --------------  -----  \n",
      " 0   S.No                 35 non-null     float64\n",
      " 1   Brand Name           35 non-null     object \n",
      " 2   Product Name         35 non-null     object \n",
      " 3   Form Factor          35 non-null     object \n",
      " 4   Memory Storage (GB)  35 non-null     float64\n",
      " 5   Processor            35 non-null     object \n",
      " 6   RAM (GB)             35 non-null     float64\n",
      " 7   Battery (mAh)        35 non-null     float64\n",
      " 8   Front Camera (MP)    35 non-null     float64\n",
      " 9   Rear Camera (MP)     35 non-null     float64\n",
      " 10  Warranty (Year)      35 non-null     float64\n",
      "dtypes: float64(7), object(4)\n",
      "memory usage: 3.2+ KB\n"
     ]
    }
   ],
   "source": [
    "df.info()"
   ]
  },
  {
   "cell_type": "code",
   "execution_count": 51,
   "metadata": {},
   "outputs": [
    {
     "data": {
      "text/plain": [
       "S.No                   1\n",
       "Brand Name             1\n",
       "Product Name           1\n",
       "Form Factor            1\n",
       "Memory Storage (GB)    1\n",
       "Processor              1\n",
       "RAM (GB)               1\n",
       "Battery (mAh)          1\n",
       "Front Camera (MP)      1\n",
       "Rear Camera (MP)       1\n",
       "Warranty (Year)        1\n",
       "dtype: int64"
      ]
     },
     "execution_count": 51,
     "metadata": {},
     "output_type": "execute_result"
    }
   ],
   "source": [
    "df.isnull().sum()"
   ]
  },
  {
   "cell_type": "code",
   "execution_count": 52,
   "metadata": {},
   "outputs": [
    {
     "data": {
      "text/plain": [
       "S.No                   35\n",
       "Brand Name             35\n",
       "Product Name           35\n",
       "Form Factor            35\n",
       "Memory Storage (GB)    35\n",
       "Processor              35\n",
       "RAM (GB)               35\n",
       "Battery (mAh)          35\n",
       "Front Camera (MP)      35\n",
       "Rear Camera (MP)       35\n",
       "Warranty (Year)        35\n",
       "dtype: int64"
      ]
     },
     "execution_count": 52,
     "metadata": {},
     "output_type": "execute_result"
    }
   ],
   "source": [
    "df.count()"
   ]
  },
  {
   "cell_type": "code",
   "execution_count": null,
   "metadata": {},
   "outputs": [],
   "source": []
  },
  {
   "cell_type": "code",
   "execution_count": 53,
   "metadata": {},
   "outputs": [
    {
     "data": {
      "text/plain": [
       "Index(['S.No', 'Brand Name', 'Product Name', 'Form Factor',\n",
       "       'Memory Storage (GB)', 'Processor', 'RAM (GB)', 'Battery (mAh)',\n",
       "       'Front Camera (MP)', 'Rear Camera (MP)', 'Warranty (Year)'],\n",
       "      dtype='object')"
      ]
     },
     "execution_count": 53,
     "metadata": {},
     "output_type": "execute_result"
    }
   ],
   "source": [
    "df.columns"
   ]
  },
  {
   "cell_type": "code",
   "execution_count": 54,
   "metadata": {},
   "outputs": [
    {
     "data": {
      "image/png": "[encoded data removed]",
      "text/plain": [
       "<Figure size 432x288 with 1 Axes>"
      ]
     },
     "metadata": {
      "needs_background": "light"
     },
     "output_type": "display_data"
    }
   ],
   "source": [
    "sns.countplot(x=df[\"RAM (GB)\"])\n",
    "\n",
    "plt.title(\"Sales Report\")\n",
    "plt.xlabel('RAM')\n",
    "plt.ylabel('Count')\n",
    "plt.show()"
   ]
  },
  {
   "cell_type": "code",
   "execution_count": 55,
   "metadata": {},
   "outputs": [
    {
     "data": {
      "image/png": "[encoded data removed]",
      "text/plain": [
       "<Figure size 432x288 with 1 Axes>"
      ]
     },
     "metadata": {
      "needs_background": "light"
     },
     "output_type": "display_data"
    }
   ],
   "source": [
    "sns.countplot(x=df[\"RAM (GB)\"])\n",
    "sns.countplot(x=df[\"Brand Name\"])\n",
    "plt.title(\"Sales Report\")\n",
    "plt.xlabel('RAM')\n",
    "plt.ylabel('Count')\n",
    "plt.show()\n"
   ]
  },
  {
   "cell_type": "code",
   "execution_count": 57,
   "metadata": {},
   "outputs": [
    {
     "data": {
      "image/png": "[encoded data removed]",
      "text/plain": [
       "<Figure size 432x288 with 1 Axes>"
      ]
     },
     "metadata": {
      "needs_background": "light"
     },
     "output_type": "display_data"
    }
   ],
   "source": [
    "sns.distplot(df[\"RAM (GB)\"])\n",
    "sns.distplot(df[\"Memory Storage (GB)\"])\n",
    "plt.title(\"Sales Report\")\n",
    "plt.xlabel('RAM')\n",
    "plt.ylabel('Memory Storage')\n",
    "plt.show()"
   ]
  },
  {
   "cell_type": "code",
   "execution_count": 58,
   "metadata": {},
   "outputs": [
    {
     "data": {
      "image/png": "[encoded data removed]",
      "text/plain": [
       "<Figure size 432x288 with 1 Axes>"
      ]
     },
     "metadata": {
      "needs_background": "light"
     },
     "output_type": "display_data"
    }
   ],
   "source": [
    "sns.distplot(df[\"Front Camera (MP)\"])\n",
    "sns.distplot(df[\"Rear Camera (MP)\"])\n",
    "plt.title(\"Sales Report\")\n",
    "plt.xlabel('Front')\n",
    "plt.ylabel('Rear')\n",
    "plt.show()"
   ]
  },
  {
   "cell_type": "code",
   "execution_count": 62,
   "metadata": {},
   "outputs": [
    {
     "data": {
      "image/png": "[encoded data removed]",
      "text/plain": [
       "<Figure size 432x288 with 1 Axes>"
      ]
     },
     "metadata": {
      "needs_background": "light"
     },
     "output_type": "display_data"
    }
   ],
   "source": [
    "x=df['RAM (GB)']\n",
    "x=df['Brand Name']\n",
    "y=df['Memory Storage (GB)']\n",
    "sns.lineplot(x,y,color='Blue')\n",
    "plt.title(\"Sales Report\")\n",
    "plt.xlabel('RAM')\n",
    "plt.ylabel('Memory Storage')\n",
    "plt.show()"
   ]
  },
  {
   "cell_type": "code",
   "execution_count": 66,
   "metadata": {},
   "outputs": [
    {
     "data": {
      "image/png": "[encoded data removed]",
      "text/plain": [
       "<Figure size 432x288 with 1 Axes>"
      ]
     },
     "metadata": {
      "needs_background": "light"
     },
     "output_type": "display_data"
    }
   ],
   "source": [
    "x=df['RAM (GB)']\n",
    "x=df['Brand Name']\n",
    "y=df['Battery (mAh)']\n",
    "sns.lineplot(x,y,color='Red')\n",
    "plt.title(\"Sales Report\")\n",
    "plt.xlabel('RAM')\n",
    "plt.ylabel('Battery')\n",
    "plt.show()"
   ]
  },
  {
   "cell_type": "code",
   "execution_count": 70,
   "metadata": {},
   "outputs": [
    {
     "data": {
      "text/plain": [
       "<matplotlib.axes._subplots.AxesSubplot at 0x246b6f9e310>"
      ]
     },
     "execution_count": 70,
     "metadata": {},
     "output_type": "execute_result"
    },
    {
     "data": {
      "image/png": "[encoded data removed]",
      "text/plain": [
       "<Figure size 432x288 with 1 Axes>"
      ]
     },
     "metadata": {
      "needs_background": "light"
     },
     "output_type": "display_data"
    }
   ],
   "source": [
    "df=pd.read_csv(\"Mobile phone.csv\")\n",
    "sns.barplot(y=df['RAM (GB)'],x=df['Memory Storage (GB)'],data=df)"
   ]
  },
  {
   "cell_type": "code",
   "execution_count": 71,
   "metadata": {},
   "outputs": [
    {
     "data": {
      "text/plain": [
       "<matplotlib.axes._subplots.AxesSubplot at 0x246b72a3b50>"
      ]
     },
     "execution_count": 71,
     "metadata": {},
     "output_type": "execute_result"
    },
    {
     "data": {
      "image/png": "[encoded data removed]",
      "text/plain": [
       "<Figure size 432x288 with 1 Axes>"
      ]
     },
     "metadata": {
      "needs_background": "light"
     },
     "output_type": "display_data"
    }
   ],
   "source": [
    "df=pd.read_csv(\"Mobile phone.csv\")\n",
    "sns.barplot(y=df['Front Camera (MP)'],x=df['Rear Camera (MP)'],data=df)"
   ]
  },
  {
   "cell_type": "code",
   "execution_count": 73,
   "metadata": {},
   "outputs": [
    {
     "data": {
      "text/plain": [
       "<matplotlib.axes._subplots.AxesSubplot at 0x246b726b0a0>"
      ]
     },
     "execution_count": 73,
     "metadata": {},
     "output_type": "execute_result"
    },
    {
     "data": {
      "image/png": "[encoded data removed]",
      "text/plain": [
       "<Figure size 432x288 with 1 Axes>"
      ]
     },
     "metadata": {
      "needs_background": "light"
     },
     "output_type": "display_data"
    }
   ],
   "source": [
    "x=np.linspace(0,10,30)\n",
    "y=np.sin(x)\n",
    "sns.scatterplot(x,y,marker='s',color='Orange')"
   ]
  },
  {
   "cell_type": "code",
   "execution_count": 74,
   "metadata": {},
   "outputs": [
    {
     "data": {
      "image/png": "[encoded data removed]",
      "text/plain": [
       "<Figure size 432x288 with 1 Axes>"
      ]
     },
     "metadata": {
      "needs_background": "light"
     },
     "output_type": "display_data"
    }
   ],
   "source": [
    "x=df['RAM (GB)']\n",
    "y=df['Memory Storage (GB)']\n",
    "data=sns.stripplot(x,y);\n",
    "data.set(xlabel='RAM (GB)',ylabel='Memory Storage (GB)')\n",
    "plt.show()"
   ]
  },
  {
   "cell_type": "code",
   "execution_count": 75,
   "metadata": {},
   "outputs": [
    {
     "data": {
      "image/png": "[encoded data removed]",
      "text/plain": [
       "<Figure size 432x288 with 1 Axes>"
      ]
     },
     "metadata": {
      "needs_background": "light"
     },
     "output_type": "display_data"
    }
   ],
   "source": [
    "x=df['RAM (GB)']\n",
    "y=df['Battery (mAh)']\n",
    "data=sns.stripplot(x,y);\n",
    "data.set(xlabel='RAM (GB)',ylabel='Battery (mAh)')\n",
    "plt.show()"
   ]
  },
  {
   "cell_type": "code",
   "execution_count": null,
   "metadata": {},
   "outputs": [],
   "source": []
  }
 ],
 "metadata": {
  "kernelspec": {
   "display_name": "Python 3",
   "language": "python",
   "name": "python3"
  },
  "language_info": {
   "codemirror_mode": {
    "name": "ipython",
    "version": 3
   },
   "file_extension": ".py",
   "mimetype": "text/x-python",
   "name": "python",
   "nbconvert_exporter": "python",
   "pygments_lexer": "ipython3",
   "version": "3.8.3"
  }
 },
 "nbformat": 4,
 "nbformat_minor": 4
}
